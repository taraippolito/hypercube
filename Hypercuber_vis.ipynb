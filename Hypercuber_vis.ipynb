{
 "cells": [
  {
   "cell_type": "code",
   "execution_count": 11,
   "metadata": {},
   "outputs": [],
   "source": [
    "import pandas as pd \n",
    "import numpy as np\n",
    "from matplotlib import pyplot as plt"
   ]
  },
  {
   "cell_type": "code",
   "execution_count": 12,
   "metadata": {},
   "outputs": [],
   "source": [
    "site = pd.read_csv(\"C:\\\\Users\\\\Research\\\\Documents\\\\Tara_Fall_2019\\\\code\\\\edited_site_data.csv\")\n",
    "epic = pd.read_csv(\"C:\\\\Users\\\\Research\\\\Documents\\\\Tara_Fall_2019\\\\code\\\\edited_epic_data.csv\")"
   ]
  },
  {
   "cell_type": "code",
   "execution_count": 3,
   "metadata": {},
   "outputs": [
    {
     "data": {
      "text/plain": [
       "Index(['Unnamed: 0', 'Site', 'Crop', 'Experiment', 'Treatment ',\n",
       "       'Mineral N kg/ha/y', 'farmyard manure t/ha/year',\n",
       "       'Reported yield data (t DM/ha)', '2000', '2001', '2002', '2003', '2004',\n",
       "       '2005', '2006', '2007', '2008', '2009', '2010', '2011', '2012', '2013',\n",
       "       '2014', '2015', '2016', '2017', '2018', 'Mean', 'min_yield',\n",
       "       'max_yield', 'Prec (mm)', 'Soil texture', 'Sand', 'Silt', 'Clay'],\n",
       "      dtype='object')"
      ]
     },
     "execution_count": 3,
     "metadata": {},
     "output_type": "execute_result"
    }
   ],
   "source": [
    "site.columns"
   ]
  },
  {
   "cell_type": "code",
   "execution_count": 13,
   "metadata": {},
   "outputs": [],
   "source": [
    "site['prec_binned'] = pd.qcut(site['Prec (mm)'],4)"
   ]
  },
  {
   "cell_type": "code",
   "execution_count": 5,
   "metadata": {},
   "outputs": [
    {
     "data": {
      "text/html": [
       "<div>\n",
       "<style scoped>\n",
       "    .dataframe tbody tr th:only-of-type {\n",
       "        vertical-align: middle;\n",
       "    }\n",
       "\n",
       "    .dataframe tbody tr th {\n",
       "        vertical-align: top;\n",
       "    }\n",
       "\n",
       "    .dataframe thead th {\n",
       "        text-align: right;\n",
       "    }\n",
       "</style>\n",
       "<table border=\"1\" class=\"dataframe\">\n",
       "  <thead>\n",
       "    <tr style=\"text-align: right;\">\n",
       "      <th></th>\n",
       "      <th>Unnamed: 0</th>\n",
       "      <th>Site</th>\n",
       "      <th>Crop</th>\n",
       "      <th>Experiment</th>\n",
       "      <th>Treatment</th>\n",
       "      <th>Mineral N kg/ha/y</th>\n",
       "      <th>farmyard manure t/ha/year</th>\n",
       "      <th>Reported yield data (t DM/ha)</th>\n",
       "      <th>2000</th>\n",
       "      <th>2001</th>\n",
       "      <th>...</th>\n",
       "      <th>2018</th>\n",
       "      <th>Mean</th>\n",
       "      <th>min_yield</th>\n",
       "      <th>max_yield</th>\n",
       "      <th>Prec (mm)</th>\n",
       "      <th>Soil texture</th>\n",
       "      <th>Sand</th>\n",
       "      <th>Silt</th>\n",
       "      <th>Clay</th>\n",
       "      <th>prec_binned</th>\n",
       "    </tr>\n",
       "  </thead>\n",
       "  <tbody>\n",
       "    <tr>\n",
       "      <th>0</th>\n",
       "      <td>0</td>\n",
       "      <td>Kroměříž</td>\n",
       "      <td>WWHT</td>\n",
       "      <td>norf</td>\n",
       "      <td>NaN</td>\n",
       "      <td>100.0</td>\n",
       "      <td>12.5</td>\n",
       "      <td>grain</td>\n",
       "      <td>NaN</td>\n",
       "      <td>5.8650</td>\n",
       "      <td>...</td>\n",
       "      <td>NaN</td>\n",
       "      <td>7.096438</td>\n",
       "      <td>3.9100</td>\n",
       "      <td>9.4775</td>\n",
       "      <td>568.0</td>\n",
       "      <td>loam</td>\n",
       "      <td>40.0</td>\n",
       "      <td>40.0</td>\n",
       "      <td>20.0</td>\n",
       "      <td>(483.0, 568.0]</td>\n",
       "    </tr>\n",
       "    <tr>\n",
       "      <th>1</th>\n",
       "      <td>1</td>\n",
       "      <td>Kroměříž</td>\n",
       "      <td>WWHT</td>\n",
       "      <td>mono</td>\n",
       "      <td>all</td>\n",
       "      <td>150.0</td>\n",
       "      <td>0.0</td>\n",
       "      <td>grain</td>\n",
       "      <td>NaN</td>\n",
       "      <td>4.7600</td>\n",
       "      <td>...</td>\n",
       "      <td>NaN</td>\n",
       "      <td>5.717313</td>\n",
       "      <td>2.9325</td>\n",
       "      <td>7.4800</td>\n",
       "      <td>568.0</td>\n",
       "      <td>loam</td>\n",
       "      <td>40.0</td>\n",
       "      <td>40.0</td>\n",
       "      <td>20.0</td>\n",
       "      <td>(483.0, 568.0]</td>\n",
       "    </tr>\n",
       "    <tr>\n",
       "      <th>2</th>\n",
       "      <td>2</td>\n",
       "      <td>Kroměříž</td>\n",
       "      <td>BARL</td>\n",
       "      <td>norf</td>\n",
       "      <td>0</td>\n",
       "      <td>0.0</td>\n",
       "      <td>12.5</td>\n",
       "      <td>grain</td>\n",
       "      <td>NaN</td>\n",
       "      <td>3.8080</td>\n",
       "      <td>...</td>\n",
       "      <td>NaN</td>\n",
       "      <td>5.859687</td>\n",
       "      <td>3.8080</td>\n",
       "      <td>7.9645</td>\n",
       "      <td>568.0</td>\n",
       "      <td>loam</td>\n",
       "      <td>40.0</td>\n",
       "      <td>40.0</td>\n",
       "      <td>20.0</td>\n",
       "      <td>(483.0, 568.0]</td>\n",
       "    </tr>\n",
       "    <tr>\n",
       "      <th>3</th>\n",
       "      <td>3</td>\n",
       "      <td>Kroměříž</td>\n",
       "      <td>BARL</td>\n",
       "      <td>norf</td>\n",
       "      <td>30</td>\n",
       "      <td>30.0</td>\n",
       "      <td>12.5</td>\n",
       "      <td>grain</td>\n",
       "      <td>NaN</td>\n",
       "      <td>4.3180</td>\n",
       "      <td>...</td>\n",
       "      <td>NaN</td>\n",
       "      <td>6.143906</td>\n",
       "      <td>4.3180</td>\n",
       "      <td>7.8200</td>\n",
       "      <td>568.0</td>\n",
       "      <td>loam</td>\n",
       "      <td>40.0</td>\n",
       "      <td>40.0</td>\n",
       "      <td>20.0</td>\n",
       "      <td>(483.0, 568.0]</td>\n",
       "    </tr>\n",
       "    <tr>\n",
       "      <th>4</th>\n",
       "      <td>4</td>\n",
       "      <td>Kroměříž</td>\n",
       "      <td>BARL</td>\n",
       "      <td>norf</td>\n",
       "      <td>60</td>\n",
       "      <td>60.0</td>\n",
       "      <td>12.5</td>\n",
       "      <td>grain</td>\n",
       "      <td>NaN</td>\n",
       "      <td>4.2925</td>\n",
       "      <td>...</td>\n",
       "      <td>NaN</td>\n",
       "      <td>6.047750</td>\n",
       "      <td>4.2925</td>\n",
       "      <td>7.6160</td>\n",
       "      <td>568.0</td>\n",
       "      <td>loam</td>\n",
       "      <td>40.0</td>\n",
       "      <td>40.0</td>\n",
       "      <td>20.0</td>\n",
       "      <td>(483.0, 568.0]</td>\n",
       "    </tr>\n",
       "  </tbody>\n",
       "</table>\n",
       "<p>5 rows × 36 columns</p>\n",
       "</div>"
      ],
      "text/plain": [
       "   Unnamed: 0      Site  Crop Experiment Treatment   Mineral N kg/ha/y  \\\n",
       "0           0  Kroměříž  WWHT       norf        NaN              100.0   \n",
       "1           1  Kroměříž  WWHT       mono        all              150.0   \n",
       "2           2  Kroměříž  BARL       norf          0                0.0   \n",
       "3           3  Kroměříž  BARL       norf         30               30.0   \n",
       "4           4  Kroměříž  BARL       norf         60               60.0   \n",
       "\n",
       "   farmyard manure t/ha/year Reported yield data (t DM/ha)  2000    2001  ...  \\\n",
       "0                       12.5                         grain   NaN  5.8650  ...   \n",
       "1                        0.0                         grain   NaN  4.7600  ...   \n",
       "2                       12.5                         grain   NaN  3.8080  ...   \n",
       "3                       12.5                         grain   NaN  4.3180  ...   \n",
       "4                       12.5                         grain   NaN  4.2925  ...   \n",
       "\n",
       "   2018      Mean  min_yield  max_yield  Prec (mm)  Soil texture  Sand  Silt  \\\n",
       "0   NaN  7.096438     3.9100     9.4775      568.0          loam  40.0  40.0   \n",
       "1   NaN  5.717313     2.9325     7.4800      568.0          loam  40.0  40.0   \n",
       "2   NaN  5.859687     3.8080     7.9645      568.0          loam  40.0  40.0   \n",
       "3   NaN  6.143906     4.3180     7.8200      568.0          loam  40.0  40.0   \n",
       "4   NaN  6.047750     4.2925     7.6160      568.0          loam  40.0  40.0   \n",
       "\n",
       "   Clay     prec_binned  \n",
       "0  20.0  (483.0, 568.0]  \n",
       "1  20.0  (483.0, 568.0]  \n",
       "2  20.0  (483.0, 568.0]  \n",
       "3  20.0  (483.0, 568.0]  \n",
       "4  20.0  (483.0, 568.0]  \n",
       "\n",
       "[5 rows x 36 columns]"
      ]
     },
     "execution_count": 5,
     "metadata": {},
     "output_type": "execute_result"
    }
   ],
   "source": [
    "site.head()"
   ]
  },
  {
   "cell_type": "code",
   "execution_count": 14,
   "metadata": {},
   "outputs": [
    {
     "data": {
      "text/plain": [
       "WWHT    305\n",
       "BARL    300\n",
       "C180     14\n",
       "C100      3\n",
       "Name: CROP, dtype: int64"
      ]
     },
     "execution_count": 14,
     "metadata": {},
     "output_type": "execute_result"
    }
   ],
   "source": [
    "site['CROP'].value_counts()"
   ]
  },
  {
   "cell_type": "code",
   "execution_count": 15,
   "metadata": {},
   "outputs": [
    {
     "data": {
      "image/png": "[encoded data removed]",
      "text/plain": [
       "<Figure size 504x360 with 1 Axes>"
      ]
     },
     "metadata": {
      "needs_background": "light"
     },
     "output_type": "display_data"
    }
   ],
   "source": [
    "# box plots \n",
    "boxplot = site.boxplot(column=['mean_YLDG'], by = 'CROP', figsize = (7,5))\n",
    "plt.savefig(\"C:\\\\Users\\\\Research\\\\Documents\\\\Tara_Fall_2019\\\\code\\\\boxplot_mean_yield_by_crop.jpg\")"
   ]
  },
  {
   "cell_type": "code",
   "execution_count": 17,
   "metadata": {},
   "outputs": [
    {
     "data": {
      "image/png": "[encoded data removed]",
      "text/plain": [
       "<Figure size 1440x360 with 1 Axes>"
      ]
     },
     "metadata": {
      "needs_background": "light"
     },
     "output_type": "display_data"
    }
   ],
   "source": [
    "# box plots \n",
    "boxplot = site.boxplot(column=['mean_YLDG'], by = ['CROP', 'manure'], figsize = (20,5))\n",
    "plt.savefig(\"C:\\\\Users\\\\Research\\\\Documents\\\\Tara_Fall_2019\\\\code\\\\boxplot_mean_yield_by_crop_and_manure.jpg\")"
   ]
  },
  {
   "cell_type": "code",
   "execution_count": 18,
   "metadata": {
    "scrolled": true
   },
   "outputs": [
    {
     "data": {
      "image/png": "[encoded data removed]",
      "text/plain": [
       "<Figure size 1944x432 with 1 Axes>"
      ]
     },
     "metadata": {
      "needs_background": "light"
     },
     "output_type": "display_data"
    }
   ],
   "source": [
    "# box plots \n",
    "boxplot = site.boxplot(column=['mean_YLDG'], by = ['CROP', 'NFERT'], figsize = (27,6))\n",
    "plt.savefig(\"C:\\\\Users\\\\Research\\\\Documents\\\\Tara_Fall_2019\\\\code\\\\boxplot_mean_yield_by_crop_and_nfert.jpg\")"
   ]
  },
  {
   "cell_type": "code",
   "execution_count": 19,
   "metadata": {},
   "outputs": [
    {
     "data": {
      "image/png": "[encoded data removed]",
      "text/plain": [
       "<Figure size 1944x432 with 1 Axes>"
      ]
     },
     "metadata": {
      "needs_background": "light"
     },
     "output_type": "display_data"
    }
   ],
   "source": [
    "# box plots \n",
    "boxplot = site.boxplot(column=['mean_YLDG'], by = ['CROP', 'prec_binned'], figsize = (27,6))\n",
    "plt.savefig(\"C:\\\\Users\\\\Research\\\\Documents\\\\Tara_Fall_2019\\\\code\\\\boxplot_mean_yield_by_crop_and_prec.jpg\")"
   ]
  },
  {
   "cell_type": "code",
   "execution_count": 20,
   "metadata": {},
   "outputs": [],
   "source": [
    "WWHT = site[site['CROP'] == 'WWHT']\n",
    "BARL = site[site['CROP'] == 'BARL']\n",
    "C100 = site[site['CROP'] == 'C100']\n",
    "C180 = site[site['CROP'] == 'C180']\n",
    "\n",
    "# crop specific yields\n",
    "WWHT_yield = site[site['CROP'] == 'WWHT']['mean_YLDG']\n",
    "BARL_yield = site[site['CROP'] == 'BARL']['mean_YLDG']\n",
    "C100_yield = site[site['CROP'] == 'C100']['mean_YLDG']\n",
    "C180_yield = site[site['CROP'] == 'C180']['mean_YLDG']\n",
    "\n",
    "# crop + nfert \n",
    "WWHT_yield_N0 = site[(site['CROP'] == 'WWHT') & (site['NFERT'] == 0)]['mean_YLDG']\n",
    "BARL_yield_N0 = site[(site['CROP'] == 'BARL') & (site['NFERT'] == 0)]['mean_YLDG']\n",
    "C100_yield_N0 = site[(site['CROP'] == 'C100') & (site['NFERT'] == 0)]['mean_YLDG']\n",
    "C180_yield_N0 = site[(site['CROP'] == 'C180') & (site['NFERT'] == 0)]['mean_YLDG']\n",
    "\n",
    "WWHT_yield_N1_to_60 = site[(site['CROP'] == 'WWHT') & (site['NFERT'] > 0) & (site['NFERT'] <= 60)]['mean_YLDG']\n",
    "BARL_yield_N1_to_60 = site[(site['CROP'] == 'BARL') & (site['NFERT'] > 0) & (site['NFERT'] <= 60)]['mean_YLDG']\n",
    "C100_yield_N1_to_60 = site[(site['CROP'] == 'C100') & (site['NFERT'] > 0) & (site['NFERT'] <= 60)]['mean_YLDG']\n",
    "C180_yield_N1_to_60 = site[(site['CROP'] == 'C180') & (site['NFERT'] > 0) & (site['NFERT'] <= 60)]['mean_YLDG']\n",
    "\n",
    "WWHT_yield_N61_to_100 = site[(site['CROP'] == 'WWHT') & (site['NFERT'] > 60) & (site['NFERT'] <= 100)]['mean_YLDG']\n",
    "BARL_yield_N61_to_100 = site[(site['CROP'] == 'BARL') & (site['NFERT'] > 60) & (site['NFERT'] <= 100)]['mean_YLDG']\n",
    "C100_yield_N61_to_100 = site[(site['CROP'] == 'C100') & (site['NFERT'] > 60) & (site['NFERT'] <= 100)]['mean_YLDG']\n",
    "C180_yield_N61_to_100 = site[(site['CROP'] == 'C180') & (site['NFERT'] > 60) & (site['NFERT'] <= 100)]['mean_YLDG']\n",
    "\n",
    "WWHT_yield_N101_to_250 = site[(site['CROP'] == 'WWHT') & (site['NFERT'] > 100)]['mean_YLDG']\n",
    "BARL_yield_N101_to_250 = site[(site['CROP'] == 'BARL') & (site['NFERT'] > 100)]['mean_YLDG']\n",
    "C100_yield_N101_to_250 = site[(site['CROP'] == 'C100') & (site['NFERT'] > 100)]['mean_YLDG']\n",
    "C180_yield_N101_to_250 = site[(site['CROP'] == 'C180') & (site['NFERT'] > 100)]['mean_YLDG']\n",
    "\n",
    "# crop + manure \n",
    "WWHT_yield_M0 = site[(site['CROP'] == 'WWHT') & (site['manure'] == 0)]['mean_YLDG']\n",
    "BARL_yield_M0 = site[(site['CROP'] == 'BARL') & (site['manure'] == 0)]['mean_YLDG']\n",
    "C100_yield_M0 = site[(site['CROP'] == 'C100') & (site['manure'] == 0)]['mean_YLDG']\n",
    "C180_yield_M0 = site[(site['CROP'] == 'C180') & (site['manure'] == 0)]['mean_YLDG']\n",
    "\n",
    "WWHT_yield_M10 = site[(site['CROP'] == 'WWHT') & (site['manure'] == 10)]['mean_YLDG']\n",
    "BARL_yield_M10 = site[(site['CROP'] == 'BARL') & (site['manure'] == 10)]['mean_YLDG']\n",
    "C100_yield_M10 = site[(site['CROP'] == 'C100') & (site['manure'] == 10)]['mean_YLDG']\n",
    "C180_yield_M10 = site[(site['CROP'] == 'C180') & (site['manure'] == 10)]['mean_YLDG']\n",
    "\n",
    "WWHT_yield_M12_5 = site[(site['CROP'] == 'WWHT') & (site['manure'] == 12.5)]['mean_YLDG']\n",
    "BARL_yield_M12_5 = site[(site['CROP'] == 'BARL') & (site['manure'] == 12.5)]['mean_YLDG']\n",
    "C100_yield_M12_5 = site[(site['CROP'] == 'C100') & (site['manure'] == 12.5)]['mean_YLDG']\n",
    "C180_yield_M12_5 = site[(site['CROP'] == 'C180') & (site['manure'] == 12.5)]['mean_YLDG']\n",
    "\n",
    "WWHT_yield_M25 = site[(site['CROP'] == 'WWHT') & (site['manure'] == 25)]['mean_YLDG']\n",
    "BARL_yield_M25 = site[(site['CROP'] == 'BARL') & (site['manure'] == 25)]['mean_YLDG']\n",
    "C100_yield_M25 = site[(site['CROP'] == 'C100') & (site['manure'] == 25)]['mean_YLDG']\n",
    "C180_yield_M25 = site[(site['CROP'] == 'C180') & (site['manure'] == 25)]['mean_YLDG']\n",
    "\n",
    "# crop + precip \n",
    "WWHT_yield_prec400 = site[(site['CROP'] == 'WWHT') & (site['Prec (mm)'] <500)]['mean_YLDG']\n",
    "BARL_yield_prec400 = site[(site['CROP'] == 'BARL') & (site['Prec (mm)'] <500)]['mean_YLDG']\n",
    "C100_yield_prec400 = site[(site['CROP'] == 'C100') & (site['Prec (mm)'] <500)]['mean_YLDG']\n",
    "C180_yield_prec400 = site[(site['CROP'] == 'C180') & (site['Prec (mm)'] <500)]['mean_YLDG']\n",
    "\n",
    "WWHT_yield_prec500 = site[(site['CROP'] == 'WWHT') & (site['Prec (mm)'] >= 500) & (site['Prec (mm)'] < 600)]['mean_YLDG']\n",
    "BARL_yield_prec500 = site[(site['CROP'] == 'BARL') & (site['Prec (mm)'] >= 500) & (site['Prec (mm)'] < 600)]['mean_YLDG']\n",
    "C100_yield_prec500 = site[(site['CROP'] == 'C100') & (site['Prec (mm)'] >= 500) & (site['Prec (mm)'] < 600)]['mean_YLDG']\n",
    "C180_yield_prec500 = site[(site['CROP'] == 'C180') & (site['Prec (mm)'] >= 500) & (site['Prec (mm)'] < 600)]['mean_YLDG']\n",
    "\n",
    "WWHT_yield_prec600 = site[(site['CROP'] == 'WWHT') & (site['Prec (mm)'] >= 600) & (site['Prec (mm)'] < 700)]['mean_YLDG']\n",
    "BARL_yield_prec600 = site[(site['CROP'] == 'BARL') & (site['Prec (mm)'] >= 600) & (site['Prec (mm)'] < 700)]['mean_YLDG']\n",
    "C100_yield_prec600 = site[(site['CROP'] == 'C100') & (site['Prec (mm)'] >= 600) & (site['Prec (mm)'] < 700)]['mean_YLDG']\n",
    "C180_yield_prec600 = site[(site['CROP'] == 'C180') & (site['Prec (mm)'] >= 600) & (site['Prec (mm)'] < 700)]['mean_YLDG']\n",
    "\n",
    "WWHT_yield_prec700 = site[(site['CROP'] == 'WWHT') & (site['Prec (mm)'] >= 700)]['mean_YLDG'] \n",
    "BARL_yield_prec700 = site[(site['CROP'] == 'BARL') & (site['Prec (mm)'] >= 700)]['mean_YLDG'] \n",
    "C100_yield_prec700 = site[(site['CROP'] == 'C100') & (site['Prec (mm)'] >= 700)]['mean_YLDG'] \n",
    "C180_yield_prec700 = site[(site['CROP'] == 'C180') & (site['Prec (mm)'] >= 700)]['mean_YLDG']"
   ]
  },
  {
   "cell_type": "code",
   "execution_count": null,
   "metadata": {},
   "outputs": [],
   "source": [
    "# box plots \n",
    "boxplot = site.boxplot(column=['mean_YLDG'], by = 'CROP')"
   ]
  }
 ],
 "metadata": {
  "kernelspec": {
   "display_name": "Python 3",
   "language": "python",
   "name": "python3"
  },
  "language_info": {
   "codemirror_mode": {
    "name": "ipython",
    "version": 3
   },
   "file_extension": ".py",
   "mimetype": "text/x-python",
   "name": "python",
   "nbconvert_exporter": "python",
   "pygments_lexer": "ipython3",
   "version": "3.7.3"
  }
 },
 "nbformat": 4,
 "nbformat_minor": 2
}
